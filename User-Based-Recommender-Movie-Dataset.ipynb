{
 "cells": [
  {
   "cell_type": "markdown",
   "id": "c4069466",
   "metadata": {},
   "source": [
    "# User Based Recommender\n",
    "\n",
    "    1. Preparation of Data Set\n",
    "\n",
    "    2. Determining the Movies Watched by the User to Make a Suggestion\n",
    "\n",
    "    3. Accessing Data and Ids of Other Users Watching the Same Movies\n",
    "\n",
    "    4. Identifying Users with the Most Similar Behaviors to the User to Suggest\n",
    "\n",
    "    5. Calculating the Weighted Average Recommendation Score"
   ]
  },
  {
   "cell_type": "markdown",
   "id": "d5d72137",
   "metadata": {},
   "source": [
    "## Import Necessary Libraries"
   ]
  },
  {
   "cell_type": "code",
   "execution_count": 1,
   "id": "c86f4fa7",
   "metadata": {},
   "outputs": [],
   "source": [
    "import numpy as np\n",
    "import pandas as pd\n",
    "pd.set_option(\"display.max_columns\",None)\n",
    "pd.set_option(\"display.width\",500)"
   ]
  },
  {
   "cell_type": "markdown",
   "id": "f9fabfa6",
   "metadata": {},
   "source": [
    "## Create the user_movie_df"
   ]
  },
  {
   "cell_type": "code",
   "execution_count": 2,
   "id": "1de77bff",
   "metadata": {},
   "outputs": [],
   "source": [
    "def create_user_mvoie_df():\n",
    "    movie = pd.read_csv(\"C://Users//Tohid//Downloads//recommender_systems//datasets//movie_lens_dataset//movie.csv\")\n",
    "    rating = pd.read_csv(\"C://Users//Tohid//Downloads//recommender_systems//datasets//movie_lens_dataset//rating.csv\")\n",
    "    df = movie.merge(rating,how=\"left\",on=\"movieId\")\n",
    "    comment_counts = pd.DataFrame(df[\"title\"].value_counts())\n",
    "    rare_movies = comment_counts[comment_counts[\"title\"]<=10000].index\n",
    "    common_movies = df[~df[\"title\"].isin(rare_movies)]\n",
    "    user_movie_df = common_movies.pivot_table(index=[\"userId\"],columns=[\"title\"],values=[\"rating\"])\n",
    "    return user_movie_df"
   ]
  },
  {
   "cell_type": "code",
   "execution_count": 3,
   "id": "2eeec572",
   "metadata": {},
   "outputs": [],
   "source": [
    "user_movie_df = create_user_mvoie_df()"
   ]
  },
  {
   "cell_type": "markdown",
   "id": "8fb5f016",
   "metadata": {},
   "source": [
    "## Create User Based Recommender"
   ]
  },
  {
   "cell_type": "code",
   "execution_count": 19,
   "id": "26c27010",
   "metadata": {},
   "outputs": [],
   "source": [
    "def user_based_recommender(random_user, user_movie_df, ratio=60, corr_th=0.65, score=3.5):\n",
    "    random_user_df = user_movie_df[user_movie_df.index==random_user]\n",
    "    movies_watched = random_user_df.columns[random_user_df.notna().any()].tolist()\n",
    "    movies_watched_df = user_movie_df[movies_watched]\n",
    "    user_movie_count = movies_watched_df.T.notnull().sum()\n",
    "    user_movie_count = user_movie_count.reset_index()\n",
    "    user_movie_count.columns = [\"userId\",\"movie_count\"]\n",
    "    prec = len(movies_watched)*ratio/100\n",
    "    user_same_movies = user_movie_count[user_movie_count[\"movie_count\"]>prec][\"userId\"]\n",
    "    final_df = pd.concat([movies_watched_df[movies_watched_df.index.isin(user_same_movies)],random_user_df[movies_watched]])\n",
    "    corr_df = final_df.T.corr().unstack().sort_values().drop_duplicates()\n",
    "    corr_df = pd.DataFrame(corr_df,columns=[\"corr\"])\n",
    "    corr_df.index.names = [\"user_id_1\",\"user_id_2\"]\n",
    "    corr_df = corr_df.reset_index()\n",
    "    top_users = corr_df[(corr_df[\"user_id_1\"]==random_user) & (corr_df[\"corr\"]>=corr_th)][[\"user_id_2\",\"corr\"]].reset_index(drop=True)\n",
    "    top_users = top_users.sort_values(by=\"corr\",ascending=False)\n",
    "    top_users.rename(columns={\"user_id_2\":\"userId\"},inplace=True)\n",
    "    rating = pd.read_csv(\"C://Users//Tohid//Downloads//recommender_systems//datasets//movie_lens_dataset//rating.csv\")\n",
    "    top_users_ratings = top_users.merge(rating[[\"userId\",\"movieId\",\"rating\"]],how=\"inner\")\n",
    "    top_users_ratings[\"weighted_rating\"] = top_users_ratings[\"corr\"] * top_users_ratings[\"rating\"]\n",
    "    recommendation_df = top_users_ratings.groupby([\"movieId\"]).agg({\"weighted_rating\":\"mean\"})\n",
    "    recommendation_df = recommendation_df.reset_index()\n",
    "    movies_to_be_rocommend = recommendation_df[recommendation_df[\"weighted_rating\"]>score].sort_values(\"weighted_rating\",ascending=False)\n",
    "    movie = pd.read_csv(\"C://Users//Tohid//Downloads//recommender_systems//datasets//movie_lens_dataset//movie.csv\")\n",
    "    return movies_to_be_rocommend.merge(movie[[\"movieId\",\"title\"]])"
   ]
  },
  {
   "cell_type": "markdown",
   "id": "ad1d3820",
   "metadata": {},
   "source": [
    "## An example of a movie recommendation system"
   ]
  },
  {
   "cell_type": "code",
   "execution_count": 20,
   "id": "01b614b8",
   "metadata": {},
   "outputs": [],
   "source": [
    "random_user = int(pd.Series(user_movie_df.index).sample(1).values)"
   ]
  },
  {
   "cell_type": "code",
   "execution_count": 21,
   "id": "e5750081",
   "metadata": {},
   "outputs": [
    {
     "data": {
      "text/html": [
       "<div>\n",
       "<style scoped>\n",
       "    .dataframe tbody tr th:only-of-type {\n",
       "        vertical-align: middle;\n",
       "    }\n",
       "\n",
       "    .dataframe tbody tr th {\n",
       "        vertical-align: top;\n",
       "    }\n",
       "\n",
       "    .dataframe thead th {\n",
       "        text-align: right;\n",
       "    }\n",
       "</style>\n",
       "<table border=\"1\" class=\"dataframe\">\n",
       "  <thead>\n",
       "    <tr style=\"text-align: right;\">\n",
       "      <th></th>\n",
       "      <th>movieId</th>\n",
       "      <th>weighted_rating</th>\n",
       "      <th>title</th>\n",
       "    </tr>\n",
       "  </thead>\n",
       "  <tbody>\n",
       "    <tr>\n",
       "      <th>0</th>\n",
       "      <td>2280</td>\n",
       "      <td>5.000000</td>\n",
       "      <td>Clay Pigeons (1998)</td>\n",
       "    </tr>\n",
       "    <tr>\n",
       "      <th>1</th>\n",
       "      <td>3865</td>\n",
       "      <td>5.000000</td>\n",
       "      <td>Original Kings of Comedy, The (2000)</td>\n",
       "    </tr>\n",
       "    <tr>\n",
       "      <th>2</th>\n",
       "      <td>81</td>\n",
       "      <td>4.000000</td>\n",
       "      <td>Things to Do in Denver When You're Dead (1995)</td>\n",
       "    </tr>\n",
       "    <tr>\n",
       "      <th>3</th>\n",
       "      <td>1620</td>\n",
       "      <td>4.000000</td>\n",
       "      <td>Kiss the Girls (1997)</td>\n",
       "    </tr>\n",
       "    <tr>\n",
       "      <th>4</th>\n",
       "      <td>1674</td>\n",
       "      <td>4.000000</td>\n",
       "      <td>Witness (1985)</td>\n",
       "    </tr>\n",
       "    <tr>\n",
       "      <th>5</th>\n",
       "      <td>1711</td>\n",
       "      <td>4.000000</td>\n",
       "      <td>Midnight in the Garden of Good and Evil (1997)</td>\n",
       "    </tr>\n",
       "    <tr>\n",
       "      <th>6</th>\n",
       "      <td>1717</td>\n",
       "      <td>4.000000</td>\n",
       "      <td>Scream 2 (1997)</td>\n",
       "    </tr>\n",
       "    <tr>\n",
       "      <th>7</th>\n",
       "      <td>1960</td>\n",
       "      <td>4.000000</td>\n",
       "      <td>Last Emperor, The (1987)</td>\n",
       "    </tr>\n",
       "    <tr>\n",
       "      <th>8</th>\n",
       "      <td>3146</td>\n",
       "      <td>4.000000</td>\n",
       "      <td>Deuce Bigalow: Male Gigolo (1999)</td>\n",
       "    </tr>\n",
       "    <tr>\n",
       "      <th>9</th>\n",
       "      <td>3424</td>\n",
       "      <td>4.000000</td>\n",
       "      <td>Do the Right Thing (1989)</td>\n",
       "    </tr>\n",
       "    <tr>\n",
       "      <th>10</th>\n",
       "      <td>3798</td>\n",
       "      <td>4.000000</td>\n",
       "      <td>What Lies Beneath (2000)</td>\n",
       "    </tr>\n",
       "    <tr>\n",
       "      <th>11</th>\n",
       "      <td>1407</td>\n",
       "      <td>3.826506</td>\n",
       "      <td>Scream (1996)</td>\n",
       "    </tr>\n",
       "    <tr>\n",
       "      <th>12</th>\n",
       "      <td>1645</td>\n",
       "      <td>3.825120</td>\n",
       "      <td>Devil's Advocate, The (1997)</td>\n",
       "    </tr>\n",
       "    <tr>\n",
       "      <th>13</th>\n",
       "      <td>2391</td>\n",
       "      <td>3.825120</td>\n",
       "      <td>Simple Plan, A (1998)</td>\n",
       "    </tr>\n",
       "    <tr>\n",
       "      <th>14</th>\n",
       "      <td>785</td>\n",
       "      <td>3.660693</td>\n",
       "      <td>Kingpin (1996)</td>\n",
       "    </tr>\n",
       "    <tr>\n",
       "      <th>15</th>\n",
       "      <td>2804</td>\n",
       "      <td>3.534934</td>\n",
       "      <td>Christmas Story, A (1983)</td>\n",
       "    </tr>\n",
       "  </tbody>\n",
       "</table>\n",
       "</div>"
      ],
      "text/plain": [
       "    movieId  weighted_rating                                           title\n",
       "0      2280         5.000000                             Clay Pigeons (1998)\n",
       "1      3865         5.000000            Original Kings of Comedy, The (2000)\n",
       "2        81         4.000000  Things to Do in Denver When You're Dead (1995)\n",
       "3      1620         4.000000                           Kiss the Girls (1997)\n",
       "4      1674         4.000000                                  Witness (1985)\n",
       "5      1711         4.000000  Midnight in the Garden of Good and Evil (1997)\n",
       "6      1717         4.000000                                 Scream 2 (1997)\n",
       "7      1960         4.000000                        Last Emperor, The (1987)\n",
       "8      3146         4.000000               Deuce Bigalow: Male Gigolo (1999)\n",
       "9      3424         4.000000                       Do the Right Thing (1989)\n",
       "10     3798         4.000000                        What Lies Beneath (2000)\n",
       "11     1407         3.826506                                   Scream (1996)\n",
       "12     1645         3.825120                    Devil's Advocate, The (1997)\n",
       "13     2391         3.825120                           Simple Plan, A (1998)\n",
       "14      785         3.660693                                  Kingpin (1996)\n",
       "15     2804         3.534934                       Christmas Story, A (1983)"
      ]
     },
     "execution_count": 21,
     "metadata": {},
     "output_type": "execute_result"
    }
   ],
   "source": [
    "user_based_recommender(random_user,user_movie_df)"
   ]
  }
 ],
 "metadata": {
  "kernelspec": {
   "display_name": "Python 3 (ipykernel)",
   "language": "python",
   "name": "python3"
  },
  "language_info": {
   "codemirror_mode": {
    "name": "ipython",
    "version": 3
   },
   "file_extension": ".py",
   "mimetype": "text/x-python",
   "name": "python",
   "nbconvert_exporter": "python",
   "pygments_lexer": "ipython3",
   "version": "3.9.12"
  }
 },
 "nbformat": 4,
 "nbformat_minor": 5
}
